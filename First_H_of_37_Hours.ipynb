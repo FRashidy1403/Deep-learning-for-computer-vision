{
  "cells": [
    {
      "cell_type": "code",
      "execution_count": 1,
      "metadata": {
        "id": "cwBJDemCnBWa"
      },
      "outputs": [],
      "source": [
        "import tensorflow as tf\n",
        "import numpy as np"
      ]
    },
    {
      "cell_type": "code",
      "execution_count": 2,
      "metadata": {
        "colab": {
          "base_uri": "https://localhost:8080/"
        },
        "id": "Ye5hflLEnJio",
        "outputId": "afa16b7f-fa11-4ec1-814e-d5d555a1c723"
      },
      "outputs": [
        {
          "output_type": "stream",
          "name": "stdout",
          "text": [
            "tf.Tensor(4, shape=(), dtype=int32)\n"
          ]
        }
      ],
      "source": [
        "tensor_zero_d = tf.constant(4)\n",
        "print(tensor_zero_d)\n"
      ]
    },
    {
      "cell_type": "code",
      "execution_count": 3,
      "metadata": {
        "colab": {
          "base_uri": "https://localhost:8080/"
        },
        "id": "vJKe9A6KikJ_",
        "outputId": "4f555931-a3f4-4515-e94a-2329495779aa"
      },
      "outputs": [
        {
          "output_type": "stream",
          "name": "stdout",
          "text": [
            "tf.Tensor([ True  True False], shape=(3,), dtype=bool)\n"
          ]
        }
      ],
      "source": [
        "tensor_bool = tf.constant([True, True, False])\n",
        "print(tensor_bool)"
      ]
    },
    {
      "cell_type": "code",
      "execution_count": null,
      "metadata": {
        "colab": {
          "base_uri": "https://localhost:8080/"
        },
        "id": "GH5a8Xxhizzv",
        "outputId": "1a0b73d5-dfee-49c1-e135-a473ac14c7ea"
      },
      "outputs": [
        {
          "name": "stdout",
          "output_type": "stream",
          "text": [
            "tf.Tensor([b'hello world' b'hi'], shape=(2,), dtype=string)\n"
          ]
        }
      ],
      "source": [
        "tensor_string = tf.constant([\"hello world\", \"hi\"])\n",
        "print(tensor_string)"
      ]
    },
    {
      "cell_type": "code",
      "execution_count": null,
      "metadata": {
        "colab": {
          "background_save": true,
          "base_uri": "https://localhost:8080/"
        },
        "id": "0Kyc_MwXo92O",
        "outputId": "16a74035-aa73-4a98-db0c-763e998fbf02"
      },
      "outputs": [
        {
          "name": "stdout",
          "output_type": "stream",
          "text": [
            "tf.Tensor([ 2.  0. -3.  8. 90.], shape=(5,), dtype=float32)\n",
            "tf.Tensor([ True False  True  True  True], shape=(5,), dtype=bool)\n"
          ]
        }
      ],
      "source": [
        "tensor_one_d = tf.constant([2,0.,-3,8,90.], dtype = tf.float32)\n",
        "\n",
        "casted_tensor_one_d = tf.cast(tensor_one_d,dtype = tf.bool)\n",
        "print(tensor_one_d)\n",
        "print(casted_tensor_one_d)"
      ]
    },
    {
      "cell_type": "code",
      "execution_count": 6,
      "metadata": {
        "colab": {
          "base_uri": "https://localhost:8080/"
        },
        "id": "GEImo4pkpqwo",
        "outputId": "8b995c96-77b8-4831-b873-ab4610d0519c"
      },
      "outputs": [
        {
          "output_type": "stream",
          "name": "stdout",
          "text": [
            "tf.Tensor(\n",
            "[[ 1  2  0]\n",
            " [ 3  5 -1]\n",
            " [ 1  5  5]\n",
            " [ 2  3  8]], shape=(4, 3), dtype=int32)\n"
          ]
        }
      ],
      "source": [
        "tensor_two_d = tf.constant([\n",
        "                            [1,2,0],\n",
        "                            [3,5,-1],\n",
        "                            [1,5,5],\n",
        "                            [2,3,8]\n",
        "                            ])\n",
        "print(tensor_two_d)"
      ]
    },
    {
      "cell_type": "code",
      "execution_count": 7,
      "metadata": {
        "colab": {
          "base_uri": "https://localhost:8080/"
        },
        "id": "qbTHv80eqnWL",
        "outputId": "02737561-b11e-45ef-de53-f2efc98e83f9"
      },
      "outputs": [
        {
          "output_type": "stream",
          "name": "stdout",
          "text": [
            "tf.Tensor(\n",
            "[[[ 1  2  0]\n",
            "  [ 3  5 -1]]\n",
            "\n",
            " [[10  2  0]\n",
            "  [ 1  0  2]]\n",
            "\n",
            " [[ 5  8  0]\n",
            "  [ 2  7  0]]\n",
            "\n",
            " [[ 2  1  9]\n",
            "  [ 4 -3 32]]], shape=(4, 2, 3), dtype=int32)\n"
          ]
        }
      ],
      "source": [
        "tensor_three_d = tf.constant([\n",
        "                             [[1,2,0],\n",
        "                              [3,5,-1]],\n",
        "\n",
        "                             [[10,2,0],\n",
        "                              [1,0,2]],\n",
        "\n",
        "                             [[5,8,0],\n",
        "                              [2,7,0]],\n",
        "\n",
        "                             [[2,1,9],\n",
        "                              [4,-3,32]]\n",
        "                             ])\n",
        "print(tensor_three_d)"
      ]
    },
    {
      "cell_type": "code",
      "execution_count": null,
      "metadata": {
        "colab": {
          "base_uri": "https://localhost:8080/"
        },
        "id": "Q6186lcL30q4",
        "outputId": "2049815c-96b3-4fee-a0ae-2a008258082f"
      },
      "outputs": [
        {
          "data": {
            "text/plain": [
              "TensorShape([4, 2, 3])"
            ]
          },
          "execution_count": 10,
          "metadata": {},
          "output_type": "execute_result"
        }
      ],
      "source": [
        "tensor_three_d.shape"
      ]
    },
    {
      "cell_type": "code",
      "execution_count": null,
      "metadata": {
        "colab": {
          "base_uri": "https://localhost:8080/"
        },
        "id": "INRTR-lF4eFa",
        "outputId": "3a3d07fb-28cc-45ea-d34a-8b5b946441a4"
      },
      "outputs": [
        {
          "data": {
            "text/plain": [
              "TensorShape([])"
            ]
          },
          "execution_count": 11,
          "metadata": {},
          "output_type": "execute_result"
        }
      ],
      "source": [
        "tensor_zero_d.shape"
      ]
    },
    {
      "cell_type": "code",
      "execution_count": null,
      "metadata": {
        "colab": {
          "base_uri": "https://localhost:8080/"
        },
        "id": "D8po-joh4jYd",
        "outputId": "57c7e29d-7ff2-4320-ac2e-208d06635b49"
      },
      "outputs": [
        {
          "data": {
            "text/plain": [
              "3"
            ]
          },
          "execution_count": 12,
          "metadata": {},
          "output_type": "execute_result"
        }
      ],
      "source": [
        "tensor_three_d.ndim"
      ]
    },
    {
      "cell_type": "code",
      "execution_count": null,
      "metadata": {
        "colab": {
          "base_uri": "https://localhost:8080/"
        },
        "id": "mQrGUsk54wXk",
        "outputId": "e11f9463-2f92-490d-b232-4ff9cd6c2456"
      },
      "outputs": [
        {
          "name": "stdout",
          "output_type": "stream",
          "text": [
            "tf.Tensor(\n",
            "[[[[   1    2    0]\n",
            "   [   3    5   -1]]\n",
            "\n",
            "  [[  10    2    0]\n",
            "   [   1    0    2]]\n",
            "\n",
            "  [[   5    8    0]\n",
            "   [   2    7    0]]\n",
            "\n",
            "  [[   2    1    9]\n",
            "   [   4   -3   32]]]\n",
            "\n",
            "\n",
            " [[[  13   26    0]\n",
            "   [   3    5  -12]]\n",
            "\n",
            "  [[  10    2    0]\n",
            "   [   1    0   23]]\n",
            "\n",
            "  [[   5    8    0]\n",
            "   [   2   73    0]]\n",
            "\n",
            "  [[   2    1    9]\n",
            "   [   4  -30   32]]]\n",
            "\n",
            "\n",
            " [[[ 103   26    0]\n",
            "   [   3   50  -12]]\n",
            "\n",
            "  [[ 100    2    0]\n",
            "   [   1    0   23]]\n",
            "\n",
            "  [[   5   28    0]\n",
            "   [   2    3    0]]\n",
            "\n",
            "  [[  22    1    9]\n",
            "   [  44 -320   32]]]], shape=(3, 4, 2, 3), dtype=int32)\n"
          ]
        }
      ],
      "source": [
        "tensor_four_d = tf.constant([\n",
        " [\n",
        "    [[1,2,0],\n",
        "    [3,5,-1]],\n",
        "\n",
        "    [[10,2,0],\n",
        "    [1,0,2]],\n",
        "\n",
        "    [[5,8,0],\n",
        "    [2,7,0]],\n",
        "\n",
        "    [[2,1,9],\n",
        "    [4,-3,32]]\n",
        "],\n",
        "[\n",
        "  [[13,26,0],\n",
        "    [3,5,-12]],\n",
        "\n",
        "    [[10,2,0],\n",
        "    [1,0,23]],\n",
        "\n",
        "    [[5,8,0],\n",
        "    [2,73,0]],\n",
        "\n",
        "    [[2,1,9],\n",
        "    [4,-30,32]],\n",
        "],\n",
        "[\n",
        "  [[103,26,0],\n",
        "    [3,50,-12]],\n",
        "\n",
        "    [[100,2,0],\n",
        "    [1,0,23]],\n",
        "\n",
        "    [[5,28,0],\n",
        "    [2,3,0]],\n",
        "\n",
        "    [[22,1,9],\n",
        "    [44,-320,32]],\n",
        "]\n",
        "])\n",
        "print(tensor_four_d)"
      ]
    },
    {
      "cell_type": "code",
      "execution_count": 4,
      "metadata": {
        "colab": {
          "base_uri": "https://localhost:8080/"
        },
        "id": "1C7d3ibMjahh",
        "outputId": "2616dd86-5e5c-41da-9b66-98c1bfa635d8"
      },
      "outputs": [
        {
          "output_type": "stream",
          "name": "stdout",
          "text": [
            "[1 2 4]\n"
          ]
        }
      ],
      "source": [
        "np_array = np.array([1,2,4])\n",
        "print(np_array)"
      ]
    },
    {
      "cell_type": "code",
      "execution_count": 5,
      "metadata": {
        "colab": {
          "base_uri": "https://localhost:8080/"
        },
        "id": "l22f4BGxjizb",
        "outputId": "f4d712d8-6c55-41e6-e219-a5e30c9e191a"
      },
      "outputs": [
        {
          "output_type": "stream",
          "name": "stdout",
          "text": [
            "tf.Tensor([1 2 4], shape=(3,), dtype=int64)\n"
          ]
        }
      ],
      "source": [
        "converted_tensor = tf.convert_to_tensor(np_array)\n",
        "print(converted_tensor)"
      ]
    },
    {
      "cell_type": "code",
      "execution_count": 6,
      "metadata": {
        "colab": {
          "base_uri": "https://localhost:8080/"
        },
        "id": "wh8FgbHHkJ5x",
        "outputId": "2d4a0b58-ec26-4089-b3b0-b1830f94c271"
      },
      "outputs": [
        {
          "output_type": "stream",
          "name": "stdout",
          "text": [
            "tf.Tensor(\n",
            "[[[[1. 0. 0. 0. 0.]\n",
            "   [0. 1. 0. 0. 0.]\n",
            "   [0. 0. 1. 0. 0.]\n",
            "   [0. 0. 0. 1. 0.]\n",
            "   [0. 0. 0. 0. 1.]]\n",
            "\n",
            "  [[1. 0. 0. 0. 0.]\n",
            "   [0. 1. 0. 0. 0.]\n",
            "   [0. 0. 1. 0. 0.]\n",
            "   [0. 0. 0. 1. 0.]\n",
            "   [0. 0. 0. 0. 1.]]\n",
            "\n",
            "  [[1. 0. 0. 0. 0.]\n",
            "   [0. 1. 0. 0. 0.]\n",
            "   [0. 0. 1. 0. 0.]\n",
            "   [0. 0. 0. 1. 0.]\n",
            "   [0. 0. 0. 0. 1.]]\n",
            "\n",
            "  [[1. 0. 0. 0. 0.]\n",
            "   [0. 1. 0. 0. 0.]\n",
            "   [0. 0. 1. 0. 0.]\n",
            "   [0. 0. 0. 1. 0.]\n",
            "   [0. 0. 0. 0. 1.]]]\n",
            "\n",
            "\n",
            " [[[1. 0. 0. 0. 0.]\n",
            "   [0. 1. 0. 0. 0.]\n",
            "   [0. 0. 1. 0. 0.]\n",
            "   [0. 0. 0. 1. 0.]\n",
            "   [0. 0. 0. 0. 1.]]\n",
            "\n",
            "  [[1. 0. 0. 0. 0.]\n",
            "   [0. 1. 0. 0. 0.]\n",
            "   [0. 0. 1. 0. 0.]\n",
            "   [0. 0. 0. 1. 0.]\n",
            "   [0. 0. 0. 0. 1.]]\n",
            "\n",
            "  [[1. 0. 0. 0. 0.]\n",
            "   [0. 1. 0. 0. 0.]\n",
            "   [0. 0. 1. 0. 0.]\n",
            "   [0. 0. 0. 1. 0.]\n",
            "   [0. 0. 0. 0. 1.]]\n",
            "\n",
            "  [[1. 0. 0. 0. 0.]\n",
            "   [0. 1. 0. 0. 0.]\n",
            "   [0. 0. 1. 0. 0.]\n",
            "   [0. 0. 0. 1. 0.]\n",
            "   [0. 0. 0. 0. 1.]]]], shape=(2, 4, 5, 5), dtype=float32)\n",
            "tf.Tensor(\n",
            "[[[[3. 0. 0. 0. 0.]\n",
            "   [0. 3. 0. 0. 0.]\n",
            "   [0. 0. 3. 0. 0.]\n",
            "   [0. 0. 0. 3. 0.]\n",
            "   [0. 0. 0. 0. 3.]]\n",
            "\n",
            "  [[3. 0. 0. 0. 0.]\n",
            "   [0. 3. 0. 0. 0.]\n",
            "   [0. 0. 3. 0. 0.]\n",
            "   [0. 0. 0. 3. 0.]\n",
            "   [0. 0. 0. 0. 3.]]\n",
            "\n",
            "  [[3. 0. 0. 0. 0.]\n",
            "   [0. 3. 0. 0. 0.]\n",
            "   [0. 0. 3. 0. 0.]\n",
            "   [0. 0. 0. 3. 0.]\n",
            "   [0. 0. 0. 0. 3.]]\n",
            "\n",
            "  [[3. 0. 0. 0. 0.]\n",
            "   [0. 3. 0. 0. 0.]\n",
            "   [0. 0. 3. 0. 0.]\n",
            "   [0. 0. 0. 3. 0.]\n",
            "   [0. 0. 0. 0. 3.]]]\n",
            "\n",
            "\n",
            " [[[3. 0. 0. 0. 0.]\n",
            "   [0. 3. 0. 0. 0.]\n",
            "   [0. 0. 3. 0. 0.]\n",
            "   [0. 0. 0. 3. 0.]\n",
            "   [0. 0. 0. 0. 3.]]\n",
            "\n",
            "  [[3. 0. 0. 0. 0.]\n",
            "   [0. 3. 0. 0. 0.]\n",
            "   [0. 0. 3. 0. 0.]\n",
            "   [0. 0. 0. 3. 0.]\n",
            "   [0. 0. 0. 0. 3.]]\n",
            "\n",
            "  [[3. 0. 0. 0. 0.]\n",
            "   [0. 3. 0. 0. 0.]\n",
            "   [0. 0. 3. 0. 0.]\n",
            "   [0. 0. 0. 3. 0.]\n",
            "   [0. 0. 0. 0. 3.]]\n",
            "\n",
            "  [[3. 0. 0. 0. 0.]\n",
            "   [0. 3. 0. 0. 0.]\n",
            "   [0. 0. 3. 0. 0.]\n",
            "   [0. 0. 0. 3. 0.]\n",
            "   [0. 0. 0. 0. 3.]]]], shape=(2, 4, 5, 5), dtype=float32)\n"
          ]
        }
      ],
      "source": [
        "eye_tensor = tf.eye(\n",
        "      num_rows = 5,\n",
        "      num_columns=None,\n",
        "      batch_shape=None,\n",
        "      dtype=tf.dtypes.float32,\n",
        "      name=None)\n",
        "\n",
        "print(eye_tensor)\n",
        "print(3*eye_tensor)"
      ]
    },
    {
      "cell_type": "code",
      "source": [
        "eye_tensor = tf.eye(\n",
        "      num_rows = 5,\n",
        "      num_columns=None,\n",
        "      batch_shape=[2,],\n",
        "      dtype=tf.dtypes.float32,\n",
        "      name=None)\n",
        "\n",
        "print(eye_tensor)"
      ],
      "metadata": {
        "colab": {
          "base_uri": "https://localhost:8080/"
        },
        "id": "Il-xxDWJB5zk",
        "outputId": "f6467ace-5d1b-4c9a-f9ce-7f8fc77d04de"
      },
      "execution_count": 8,
      "outputs": [
        {
          "output_type": "stream",
          "name": "stdout",
          "text": [
            "tf.Tensor(\n",
            "[[[1. 0. 0. 0. 0.]\n",
            "  [0. 1. 0. 0. 0.]\n",
            "  [0. 0. 1. 0. 0.]\n",
            "  [0. 0. 0. 1. 0.]\n",
            "  [0. 0. 0. 0. 1.]]\n",
            "\n",
            " [[1. 0. 0. 0. 0.]\n",
            "  [0. 1. 0. 0. 0.]\n",
            "  [0. 0. 1. 0. 0.]\n",
            "  [0. 0. 0. 1. 0.]\n",
            "  [0. 0. 0. 0. 1.]]], shape=(2, 5, 5), dtype=float32)\n"
          ]
        }
      ]
    },
    {
      "cell_type": "code",
      "source": [
        "eye_tensor = tf.eye(\n",
        "      num_rows = 5,\n",
        "      num_columns=None,\n",
        "      batch_shape=[2,4],\n",
        "      dtype=tf.dtypes.float32,\n",
        "      name=None)\n",
        "\n",
        "print(eye_tensor)"
      ],
      "metadata": {
        "colab": {
          "base_uri": "https://localhost:8080/"
        },
        "id": "sezywlHZCdb7",
        "outputId": "19b24219-7a89-4b31-eaf5-d3397f71f5d7"
      },
      "execution_count": 9,
      "outputs": [
        {
          "output_type": "stream",
          "name": "stdout",
          "text": [
            "tf.Tensor(\n",
            "[[[[1. 0. 0. 0. 0.]\n",
            "   [0. 1. 0. 0. 0.]\n",
            "   [0. 0. 1. 0. 0.]\n",
            "   [0. 0. 0. 1. 0.]\n",
            "   [0. 0. 0. 0. 1.]]\n",
            "\n",
            "  [[1. 0. 0. 0. 0.]\n",
            "   [0. 1. 0. 0. 0.]\n",
            "   [0. 0. 1. 0. 0.]\n",
            "   [0. 0. 0. 1. 0.]\n",
            "   [0. 0. 0. 0. 1.]]\n",
            "\n",
            "  [[1. 0. 0. 0. 0.]\n",
            "   [0. 1. 0. 0. 0.]\n",
            "   [0. 0. 1. 0. 0.]\n",
            "   [0. 0. 0. 1. 0.]\n",
            "   [0. 0. 0. 0. 1.]]\n",
            "\n",
            "  [[1. 0. 0. 0. 0.]\n",
            "   [0. 1. 0. 0. 0.]\n",
            "   [0. 0. 1. 0. 0.]\n",
            "   [0. 0. 0. 1. 0.]\n",
            "   [0. 0. 0. 0. 1.]]]\n",
            "\n",
            "\n",
            " [[[1. 0. 0. 0. 0.]\n",
            "   [0. 1. 0. 0. 0.]\n",
            "   [0. 0. 1. 0. 0.]\n",
            "   [0. 0. 0. 1. 0.]\n",
            "   [0. 0. 0. 0. 1.]]\n",
            "\n",
            "  [[1. 0. 0. 0. 0.]\n",
            "   [0. 1. 0. 0. 0.]\n",
            "   [0. 0. 1. 0. 0.]\n",
            "   [0. 0. 0. 1. 0.]\n",
            "   [0. 0. 0. 0. 1.]]\n",
            "\n",
            "  [[1. 0. 0. 0. 0.]\n",
            "   [0. 1. 0. 0. 0.]\n",
            "   [0. 0. 1. 0. 0.]\n",
            "   [0. 0. 0. 1. 0.]\n",
            "   [0. 0. 0. 0. 1.]]\n",
            "\n",
            "  [[1. 0. 0. 0. 0.]\n",
            "   [0. 1. 0. 0. 0.]\n",
            "   [0. 0. 1. 0. 0.]\n",
            "   [0. 0. 0. 1. 0.]\n",
            "   [0. 0. 0. 0. 1.]]]], shape=(2, 4, 5, 5), dtype=float32)\n"
          ]
        }
      ]
    },
    {
      "cell_type": "code",
      "execution_count": 5,
      "metadata": {
        "colab": {
          "base_uri": "https://localhost:8080/"
        },
        "id": "LGP7Zyc8nl87",
        "outputId": "8b335f7c-80b7-4e45-e2f4-9faef91054e7"
      },
      "outputs": [
        {
          "output_type": "stream",
          "name": "stdout",
          "text": [
            "tf.Tensor(\n",
            "[[[5 5 5 5]\n",
            "  [5 5 5 5]\n",
            "  [5 5 5 5]]\n",
            "\n",
            " [[5 5 5 5]\n",
            "  [5 5 5 5]\n",
            "  [5 5 5 5]]], shape=(2, 3, 4), dtype=int32)\n"
          ]
        }
      ],
      "source": [
        "fill_tensor = tf.fill(\n",
        "    [2,3,4],5, name = None\n",
        ")\n",
        "print(fill_tensor)"
      ]
    },
    {
      "cell_type": "code",
      "execution_count": 3,
      "metadata": {
        "colab": {
          "base_uri": "https://localhost:8080/"
        },
        "id": "34-SmJ7m3uR2",
        "outputId": "f9f152c2-6cdd-4adc-ccaf-26d82064f0ad"
      },
      "outputs": [
        {
          "output_type": "stream",
          "name": "stdout",
          "text": [
            "tf.Tensor(\n",
            "[[[1. 1.]\n",
            "  [1. 1.]\n",
            "  [1. 1.]]\n",
            "\n",
            " [[1. 1.]\n",
            "  [1. 1.]\n",
            "  [1. 1.]]\n",
            "\n",
            " [[1. 1.]\n",
            "  [1. 1.]\n",
            "  [1. 1.]]\n",
            "\n",
            " [[1. 1.]\n",
            "  [1. 1.]\n",
            "  [1. 1.]]\n",
            "\n",
            " [[1. 1.]\n",
            "  [1. 1.]\n",
            "  [1. 1.]]], shape=(5, 3, 2), dtype=float32)\n"
          ]
        }
      ],
      "source": [
        "ones_tensor = tf.ones(\n",
        "    [5,3,2],\n",
        "    dtype = tf.dtypes.float32,\n",
        "    name = None\n",
        ")\n",
        "print(ones_tensor)"
      ]
    },
    {
      "cell_type": "code",
      "execution_count": 6,
      "metadata": {
        "id": "_l3BF01-421o",
        "colab": {
          "base_uri": "https://localhost:8080/"
        },
        "outputId": "045ea9e5-1a08-4155-b7c6-d20edde953dc"
      },
      "outputs": [
        {
          "output_type": "stream",
          "name": "stdout",
          "text": [
            "tf.Tensor(\n",
            "[[[1 1 1 1]\n",
            "  [1 1 1 1]\n",
            "  [1 1 1 1]]\n",
            "\n",
            " [[1 1 1 1]\n",
            "  [1 1 1 1]\n",
            "  [1 1 1 1]]], shape=(2, 3, 4), dtype=int32)\n"
          ]
        }
      ],
      "source": [
        " ones_like_tensor = tf.ones_like(fill_tensor)\n",
        " print(ones_like_tensor)"
      ]
    },
    {
      "cell_type": "code",
      "execution_count": 7,
      "metadata": {
        "id": "lWrbl6f8BH51",
        "colab": {
          "base_uri": "https://localhost:8080/"
        },
        "outputId": "3eee9155-4063-4cfe-8cac-2d967663c88d"
      },
      "outputs": [
        {
          "output_type": "stream",
          "name": "stdout",
          "text": [
            "tf.Tensor(\n",
            "[[0. 0.]\n",
            " [0. 0.]\n",
            " [0. 0.]], shape=(3, 2), dtype=float32)\n"
          ]
        }
      ],
      "source": [
        "zeros_tensor = tf.zeros(\n",
        "    [3,2],\n",
        "    dtype = tf.dtypes.float32,\n",
        "    name = None\n",
        ")\n",
        "print(zeros_tensor)"
      ]
    },
    {
      "cell_type": "code",
      "source": [
        "print(zeros_tensor.shape)"
      ],
      "metadata": {
        "colab": {
          "base_uri": "https://localhost:8080/"
        },
        "id": "5wKY7F1FzAR-",
        "outputId": "d2a91b4e-b804-4bf4-d0ae-e3db11f218b9"
      },
      "execution_count": 8,
      "outputs": [
        {
          "output_type": "stream",
          "name": "stdout",
          "text": [
            "(3, 2)\n"
          ]
        }
      ]
    },
    {
      "cell_type": "code",
      "source": [
        "print(tf.shape(zeros_tensor))"
      ],
      "metadata": {
        "colab": {
          "base_uri": "https://localhost:8080/"
        },
        "id": "EfzSu1dS0FHQ",
        "outputId": "6e22142a-adb9-48e6-d0e2-4b628f401432"
      },
      "execution_count": 9,
      "outputs": [
        {
          "output_type": "stream",
          "name": "stdout",
          "text": [
            "tf.Tensor([3 2], shape=(2,), dtype=int32)\n"
          ]
        }
      ]
    },
    {
      "cell_type": "code",
      "source": [
        "# shape of tensor 't' is [2, 2, 3]\n",
        "t = tf.constant([[[1, 1, 1], [2, 2, 2]], [[3, 3, 3], [4, 4, 4]]])\n",
        "tf.rank(t)"
      ],
      "metadata": {
        "colab": {
          "base_uri": "https://localhost:8080/"
        },
        "id": "d7FOcEmL0Le8",
        "outputId": "fa80a88f-15fc-46b7-dbc0-1b4c0c066124"
      },
      "execution_count": 10,
      "outputs": [
        {
          "output_type": "execute_result",
          "data": {
            "text/plain": [
              "<tf.Tensor: shape=(), dtype=int32, numpy=3>"
            ]
          },
          "metadata": {},
          "execution_count": 10
        }
      ]
    },
    {
      "cell_type": "code",
      "source": [
        "# shape of tensor 't' is [2, 2, 3]\n",
        "t = tf.constant([[1, 1, 1], [2, 2, 2]])\n",
        "tf.rank(t)  # 3"
      ],
      "metadata": {
        "colab": {
          "base_uri": "https://localhost:8080/"
        },
        "id": "BnScmWRm17_f",
        "outputId": "9a543150-1989-4c34-8f3f-1aa02eca81f5"
      },
      "execution_count": 11,
      "outputs": [
        {
          "output_type": "execute_result",
          "data": {
            "text/plain": [
              "<tf.Tensor: shape=(), dtype=int32, numpy=2>"
            ]
          },
          "metadata": {},
          "execution_count": 11
        }
      ]
    },
    {
      "cell_type": "code",
      "source": [
        "t = tf.constant([[[1, 1, 1], [2, 2, 2]], [[3, 3, 3], [4, 4, 4]]])\n",
        "tf.size(t)"
      ],
      "metadata": {
        "colab": {
          "base_uri": "https://localhost:8080/"
        },
        "id": "bddeR5Pt2H7E",
        "outputId": "bed3dd11-008c-4867-c410-3d0a366c7083"
      },
      "execution_count": 2,
      "outputs": [
        {
          "output_type": "execute_result",
          "data": {
            "text/plain": [
              "<tf.Tensor: shape=(), dtype=int32, numpy=12>"
            ]
          },
          "metadata": {},
          "execution_count": 2
        }
      ]
    },
    {
      "cell_type": "code",
      "source": [
        "t = tf.constant([[1, 1, 1], [2, 2, 2]],)\n",
        "tf.size(t, out_type=tf.float32)"
      ],
      "metadata": {
        "colab": {
          "base_uri": "https://localhost:8080/"
        },
        "id": "Dk3EQWhm83pZ",
        "outputId": "6d195689-227a-4079-8880-2924ecce0cf3"
      },
      "execution_count": 4,
      "outputs": [
        {
          "output_type": "execute_result",
          "data": {
            "text/plain": [
              "<tf.Tensor: shape=(), dtype=float32, numpy=6.0>"
            ]
          },
          "metadata": {},
          "execution_count": 4
        }
      ]
    },
    {
      "cell_type": "code",
      "source": [
        "random_tensor = tf.random.normal(\n",
        "    [3,2],\n",
        "    mean=0.0,\n",
        "    stddev=1.0,\n",
        "    dtype=tf.dtypes.float32,\n",
        "    seed=None,\n",
        "    name=None\n",
        ")\n",
        "print(random_tensor)"
      ],
      "metadata": {
        "colab": {
          "base_uri": "https://localhost:8080/"
        },
        "id": "4sSYTZGc9PoT",
        "outputId": "2eab3751-7a85-47d3-9be8-db20845b8ce7"
      },
      "execution_count": 12,
      "outputs": [
        {
          "output_type": "stream",
          "name": "stdout",
          "text": [
            "tf.Tensor(\n",
            "[[-0.5624743  -0.92763674]\n",
            " [ 1.5136944  -0.15361713]\n",
            " [-0.19454901  1.1426387 ]], shape=(3, 2), dtype=float32)\n"
          ]
        }
      ]
    },
    {
      "cell_type": "code",
      "source": [],
      "metadata": {
        "id": "hH5e2ucr-IhI"
      },
      "execution_count": null,
      "outputs": []
    }
  ],
  "metadata": {
    "colab": {
      "provenance": []
    },
    "kernelspec": {
      "display_name": "Python 3",
      "name": "python3"
    },
    "language_info": {
      "name": "python"
    }
  },
  "nbformat": 4,
  "nbformat_minor": 0
}